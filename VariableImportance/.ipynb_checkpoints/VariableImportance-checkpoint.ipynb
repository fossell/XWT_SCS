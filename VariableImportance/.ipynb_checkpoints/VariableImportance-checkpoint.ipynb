{
 "cells": [
  {
   "cell_type": "markdown",
   "metadata": {},
   "source": [
    "# VariableImportance.ipynb"
   ]
  },
  {
   "cell_type": "markdown",
   "metadata": {},
   "source": [
    "#!/usr/bin/env python\n",
    "\n",
    "    File name: VariableImportance.ipynb\n",
    "    Author: Andreas Prein\n",
    "    E-mail: prein@ucar.edu\n",
    "    Date created: 19.04.2018\n",
    "    Date last modified: 19.04.2018\n",
    "\n",
    "    ############################################################## \n",
    "    Purpos:\n",
    "    Investigate which variables were most frequently picked in settings with good performance.\n",
    "    \n",
    "    This requires to first run:\n",
    "    SearchOptimum_XWT-Combination.py\n",
    "\n",
    "    1) read in the preprocessed files\n",
    "\n",
    "    2) grep the best perfroming settings\n",
    "\n",
    "    3) calculate the frequency of variables and plot them for each watershed\n"
   ]
  },
  {
   "cell_type": "code",
   "execution_count": 1,
   "metadata": {},
   "outputs": [],
   "source": [
    "from dateutil import rrule\n",
    "import datetime\n",
    "import glob\n",
    "from netCDF4 import Dataset\n",
    "import sys, traceback\n",
    "import dateutil.parser as dparser\n",
    "import string\n",
    "from pdb import set_trace as stop\n",
    "import numpy as np\n",
    "import numpy.ma as ma\n",
    "import os\n",
    "from mpl_toolkits import basemap\n",
    "# import ESMF\n",
    "import pickle\n",
    "import subprocess\n",
    "import pandas as pd\n",
    "from scipy import stats\n",
    "import copy\n",
    "import matplotlib.pyplot as plt\n",
    "import matplotlib.colors as colors\n",
    "import matplotlib as mpl\n",
    "import pylab as plt\n",
    "import random\n",
    "import scipy.ndimage as ndimage\n",
    "import scipy\n",
    "import shapefile\n",
    "import matplotlib.path as mplPath\n",
    "from matplotlib.patches import Polygon as Polygon2\n",
    "# Cluster specific modules\n",
    "from scipy.cluster.hierarchy import dendrogram, linkage\n",
    "from scipy.cluster.hierarchy import cophenet\n",
    "from scipy.spatial.distance import pdist\n",
    "from scipy.cluster.hierarchy import fcluster\n",
    "from scipy.cluster.vq import kmeans2,vq, whiten\n",
    "from scipy.ndimage import gaussian_filter\n",
    "# import seaborn as sns\n",
    "# import metpy.calc as mpcalc\n",
    "import shapefile as shp\n",
    "import sys \n",
    "import matplotlib.gridspec as gridspec\n",
    "import seaborn"
   ]
  },
  {
   "cell_type": "markdown",
   "metadata": {},
   "source": [
    "### Setup"
   ]
  },
  {
   "cell_type": "code",
   "execution_count": 12,
   "metadata": {},
   "outputs": [],
   "source": [
    "#sPlotDir='/glade/scratch/prein/projects/2020_SCS_XWT/plots/'\n",
    "#sDataDir='/glade/scratch/prein/projects/2020_SCS_XWT/data/'\n",
    "sPlotDir='/glade/work/fossell/preevents/XWT_Kates_code/plot_test/'\n",
    "sDataDir='/glade/work/fossell/preevents/XWT_Kates_code/data_test/'\n",
    "DW_Regions=['MDW.poly']\n",
    "sRegNames=['Midwest']\n",
    "sMonths='6-7-8'\n",
    "YYYY_stamp='1990-2016'\n",
    "rgsWTvars=['PSL', 'U850', 'V850', 'UV850',  'PW',  'FLX850', 'Q850', 'Q500', 'ZG500', 'CAPE', 'VS06', 'CAPE-Shear', 'MAX_CAPE']\n",
    "SortedVars=rgsWTvars\n",
    "PercVarSel=10\n",
    "ExtremeNr = 0\n",
    "\n",
    "SelVar = np.array([['V850','UV850','CAPE']])"
   ]
  },
  {
   "cell_type": "markdown",
   "metadata": {},
   "source": [
    "### Load the data and calculate how often variables where selected in well performing settings"
   ]
  },
  {
   "cell_type": "code",
   "execution_count": 13,
   "metadata": {},
   "outputs": [],
   "source": [
    "ii=0\n",
    "for re in range(len(DW_Regions)):\n",
    "    sRegion=DW_Regions[re]\n",
    "    sRegion=sRegion.replace('/','-')\n",
    "    SaveStats=sDataDir+sRegion+'-'+sMonths+'.npz'\n",
    "    if os.path.exists(SaveStats) == True:\n",
    "        DATA=np.load(SaveStats, allow_pickle=True)\n",
    "        SkillScores_All=DATA['SkillScores_All']\n",
    "        Combinations=DATA['Combinations']\n",
    "        VarsFullName=DATA['rgsWTvars']\n",
    "        rgrNrOfExtremes=DATA['rgrNrOfExtremes']\n",
    "        WT_Domains=DATA['WT_Domains']\n",
    "        Annual_Cycle=DATA['Annual_Cycle']\n",
    "        SpatialSmoothing=DATA['SpatialSmoothing']\n",
    "        Metrics=DATA['Metrics']\n",
    "        Dimensions=DATA['Dimensions']\n",
    "        \n",
    "        VARS=np.copy(VarsFullName)\n",
    "        \n",
    "#         SkillScores_All[np.isnan(SkillScores_All)]=1\n",
    "\n",
    "        SkillScores=SkillScores_All[:,ExtremeNr,:,:,:,:,list(Metrics).index('PEX')]+SkillScores_All[:,ExtremeNr,:,:,:,:,list(Metrics).index('APR')]\n",
    "        if ii == 0:\n",
    "            ANOVA_All=np.zeros((10,2,len(DW_Regions))); ANOVA_All[:]=np.nan\n",
    "            Variables=np.zeros((len(DW_Regions),len(VarsFullName)))\n",
    "            AllSS=np.zeros((len(DW_Regions),len(SkillScores))); AllSS[:]=np.nan\n",
    "        AllSS[re,:]=np.nanmean(np.squeeze(SkillScores),1)/2.\n",
    "        \n",
    "        TH=np.nanpercentile(SkillScores,PercVarSel)\n",
    "        ScoresSel=SkillScores[(SkillScores < TH)]\n",
    "        for ii in range(len(ScoresSel)):\n",
    "            Location=np.where(SkillScores == ScoresSel[ii])\n",
    "            Var=Combinations[Location[0][0]]\n",
    "            for jj in range(len(Var)):\n",
    "                Variables[re,Var[jj]]=Variables[re,Var[jj]]+1\n",
    "                \n",
    "        # store the best performing settings\n",
    "        ev=20\n",
    "        iTop10=np.argsort(np.mean(np.squeeze(SkillScores), axis=1))[:ev][::-1]\n",
    "        Top10=Combinations[iTop10[-ev:]]\n",
    "        TopSkill=np.array(np.mean(np.squeeze(SkillScores), axis=1))[iTop10]/2\n",
    "        VARS=np.array([[SortedVars[Top10[jj][ii]] for ii in range(len(Top10[jj]))] for jj in range(len(Top10))])\n",
    "        VARS=[','.join(VARS[ii]) for ii in range(len(Top10))]\n",
    "        VS=[','.join([VARS[ii], str(np.round(TopSkill[ii], 2))]) for ii in range(len(Top10))]\n",
    "        pd.DataFrame(VS).to_csv(sDataDir+'BestSettings/'+DW_Regions[re]+\"_top-\"+str(ev)+\"-vars.csv\",header=False)\n",
    "        # store the variable selection ranking\n",
    "        iVarSort=VarsFullName[np.argsort(Variables[re,:])][::-1]\n",
    "        JoinedVars=','.join(iVarSort)\n",
    "        pd.DataFrame([JoinedVars]).to_csv(sDataDir+'BestSettings/'+DW_Regions[re]+\"_VariableRanking.csv\",header=False, index=False)\n",
    "        ii = ii+1\n",
    "    else:\n",
    "        print('    Missing: '+SaveStats)\n",
    "        pass"
   ]
  },
  {
   "cell_type": "markdown",
   "metadata": {},
   "source": [
    "### Read in the best setting to show the dependence on Nr. of extremes"
   ]
  },
  {
   "cell_type": "code",
   "execution_count": 15,
   "metadata": {},
   "outputs": [
    {
     "name": "stdout",
     "output_type": "stream",
     "text": [
      "    Missing: /glade/scratch/prein/projects/2020_SCS_XWT/data/preselect/MDW.poly_1990-2016-6-7-8_MODIS_ERA5.npz\n"
     ]
    }
   ],
   "source": [
    "# sDataDirNE='/glade/scratch/prein/projects/2020_SCS_XWT/data/preselect/'\n",
    "# ii=0\n",
    "# for re in range(len(DW_Regions)):\n",
    "#     sRegion=DW_Regions[re]\n",
    "#     sRegion=sRegion.replace('/','-')\n",
    "#     SaveStats=sDataDirNE+sRegion+'_'+YYYY_stamp+'-'+sMonths+'_MODIS_ERA5.npz'\n",
    "#     if os.path.exists(SaveStats) == True:\n",
    "#         DATANE=np.load(SaveStats, allow_pickle=True)\n",
    "#         SkillScores_AllNE=DATANE['SkillScores_All']\n",
    "#         rgrNrOfExtremesNE=DATANE['rgrNrOfExtremes']\n",
    "\n",
    "        \n",
    "#         VARS=np.copy(VarsFullName)\n",
    "#         SkillScores=SkillScores_AllNE[:,:,:,:,:,:,list(Metrics).index('PEX')]+SkillScores_AllNE[:,:,:,:,:,:,list(Metrics).index('APR')]\n",
    "#         if ii == 0:\n",
    "#             Extremes=np.zeros((len(DW_Regions),len(rgrNrOfExtremesNE)))\n",
    "#             AllSSNE=np.zeros((len(DW_Regions),SkillScores.shape[0],SkillScores.shape[1])); AllSSNE[:]=np.nan\n",
    "#         AllSSNE[re,:,:]=np.nanmean(np.squeeze(SkillScores),axis=2)/2.\n",
    "#     else:\n",
    "#         print('    Missing: '+SaveStats)\n",
    "#         pass\n",
    "#     ii = ii+1"
   ]
  },
  {
   "cell_type": "code",
   "execution_count": 14,
   "metadata": {},
   "outputs": [
    {
     "name": "stdout",
     "output_type": "stream",
     "text": [
      "        Plot map to: /glade/scratch/prein/projects/2020_SCS_XWT/plots/VariableImportance.pdf\n"
     ]
    },
    {
     "data": {
      "image/png": "[encoded data removed]",
      "text/plain": [
       "<Figure size 720x648 with 3 Axes>"
      ]
     },
     "metadata": {},
     "output_type": "display_data"
    }
   ],
   "source": [
    "# iVarSort=[list(VarsFullName).index(SortedVars[va]) for va in range(len(SortedVars))]\n",
    "Variables=(Variables/np.sum(Variables, axis=1)[:,None])*100\n",
    "seaborn.set_style('ticks')# ax2.grid()\n",
    "plt.rcParams.update({'font.size': 17})\n",
    "rgsLableABC=list(string.ascii_lowercase)\n",
    "\n",
    "fig = plt.figure(figsize=(10,9))\n",
    "\n",
    "#####################################################\n",
    "# show skill as function of var. perturbation\n",
    "gs2 = gridspec.GridSpec(1,1)\n",
    "gs2.update(left=0.10, right=0.95,\n",
    "           bottom=0.55, top=0.96,\n",
    "           wspace=0.35, hspace=0.20)\n",
    "ax2 = plt.subplot(gs2[0,0])\n",
    "COLORS=['#a6cee3','#1f78b4','#b2df8a','#33a02c','#fb9a99','#e31a1c','#fdbf6f','#ff7f00','#cab2d6','#6a3d9a','#ffff99','#b15928']\n",
    "for re in range(len(DW_Regions)):\n",
    "    ax2.plot(np.sort(AllSS[re,:])[::-1], c=COLORS[re], lw=2, label=sRegNames[re])\n",
    "plt.legend()\n",
    "ax2.set_xlabel('ranked variable combinations [-]')\n",
    "ax2.set_ylabel('average skill score [-]')\n",
    "ax2.spines['right'].set_visible(False)\n",
    "ax2.spines['left'].set_visible(False)\n",
    "ax2.spines['top'].set_visible(False)\n",
    "ax2.text(0.03,1.02, rgsLableABC[0], ha='left',va='bottom', transform = ax2.transAxes,\n",
    "                fontname=\"Times New Roman Bold\", fontweight='bold')\n",
    "plt.grid(axis='y')\n",
    "plt.axvline(x=AllSS.shape[1]*(100-PercVarSel)/100, c='k')\n",
    "\n",
    "\n",
    "\n",
    "# #####################################################\n",
    "# # show skill as function of nr. of extremes\n",
    "# gs3 = gridspec.GridSpec(1,1)\n",
    "# gs3.update(left=0.60, right=0.98,\n",
    "#            bottom=0.55, top=0.96,\n",
    "#            wspace=0.35, hspace=0.20)\n",
    "# BWstats=np.nanpercentile(AllSSNE, (0,5,25,50,75,95,100), axis=1)\n",
    "# ax3 = plt.subplot(gs3[0,0])\n",
    "# iDist=9\n",
    "# for ex in range(BWstats.shape[2]):\n",
    "#     for re in range(BWstats.shape[1]):\n",
    "#         xx = ex*iDist+1+re\n",
    "#         ax3.plot([xx,xx],[BWstats[2,re,ex],BWstats[4,re,ex]], lw=8, c=COLORS[re], solid_capstyle='butt')\n",
    "#         ax3.plot([xx,xx],[BWstats[1,re,ex],BWstats[5,re,ex]], lw=1, c=COLORS[re], solid_capstyle='butt')\n",
    "#         ax3.plot([xx,xx],[BWstats[0,re,ex],BWstats[6,re,ex]], marker='o', c=COLORS[re], lw=0)\n",
    "#         ax3.plot([xx-0.3,xx+0.3],[BWstats[3,re,ex],BWstats[3,re,ex]], lw=1, c='w', solid_capstyle='butt')\n",
    "        \n",
    "# ax3.set_xlabel('number of extremes [days]')\n",
    "# ax3.set_ylabel('average skill score [-]')\n",
    "# ax3.spines['right'].set_visible(False)\n",
    "# ax3.spines['left'].set_visible(False)\n",
    "# ax3.spines['top'].set_visible(False)\n",
    "# plt.grid(axis='y')\n",
    "# ax3.text(0.03,1.02, rgsLableABC[1], ha='left',va='bottom', transform = ax3.transAxes,\n",
    "#                 fontname=\"Times New Roman Bold\", fontweight='bold')\n",
    "\n",
    "# xLoc = np.array([9,18,27,36])\n",
    "# labels = ['high', 'low', 37337]\n",
    "# plt.xticks(xLoc-4.5, rgrNrOfExtremesNE) #, rotation='vertical')\n",
    "# for vl in range(len(xLoc)):\n",
    "#     plt.axvline(x=xLoc[vl], c='k')\n",
    "\n",
    "\n",
    "\n",
    "#####################################################\n",
    "# show top selected variables\n",
    "gs1 = gridspec.GridSpec(1,1)\n",
    "gs1.update(left=0.10, right=1.05,\n",
    "           bottom=0.10, top=0.47,\n",
    "           wspace=0.35, hspace=0.20)\n",
    "ax = plt.subplot(gs1[0,0])\n",
    "\n",
    "import seaborn as sns; sns.set()\n",
    "# ax=sns.heatmap(Variables[:,iVarSort], cmap='coolwarm', vmin=0, vmax=13, \n",
    "#                              cbar_kws={'label': 'variable selection frequency [%]'}) # cmap='YlGnBu'\n",
    "ax=sns.heatmap(Variables[:,:], cmap='coolwarm', vmin=0, vmax=13, \n",
    "                             cbar_kws={'label': 'variable selection frequency [%]'}) # cmap='YlGnBu'\n",
    "# Highlight to 8 variables\n",
    "TopVars=np.argsort(Variables[:,:], axis=1)[:,-8:]\n",
    "for re in range(TopVars.shape[0]):\n",
    "    for tv in range(TopVars.shape[1]):\n",
    "        TV=TopVars[re,tv]\n",
    "        plt.plot([TV, TV+1, TV+1, TV, TV], [re, re, re+1, re+1, re], c='k', lw=2)\n",
    "# Highlight the selected variables\n",
    "for re in range(TopVars.shape[0]):\n",
    "    for va in range(SelVar.shape[1]):\n",
    "        TV = rgsWTvars.index(SelVar[:,:][re,va])\n",
    "        ax.fill([TV, TV+1, TV+1, TV, TV], [re, re, re+1, re+1, re], fill=False, hatch='///',color='k')\n",
    "#         plt.contoruf([TV, TV+1, TV+1, TV, TV], [re, re, re+1, re+1, re], c='k', lw=2)\n",
    "\n",
    "ax.set_yticklabels(np.array(sRegNames)[:], rotation=0)\n",
    "ax.set_xticklabels(VarsFullName, rotation=90)\n",
    "ax.text(0.03,1.02, rgsLableABC[1], ha='left',va='bottom', transform = ax.transAxes,\n",
    "                fontname=\"Times New Roman Bold\", fontweight='bold', fontsize=17)\n",
    "\n",
    "sPlotFile=sPlotDir\n",
    "sPlotName= 'VariableImportance.pdf'\n",
    "if os.path.isdir(sPlotFile) != 1:\n",
    "    subprocess.call([\"mkdir\",\"-p\",sPlotFile])\n",
    "print( '        Plot map to: '+sPlotFile+sPlotName)\n",
    "fig.savefig(sPlotFile+sPlotName)"
   ]
  },
  {
   "cell_type": "code",
   "execution_count": 15,
   "metadata": {},
   "outputs": [],
   "source": [
    "SORTreg=[5,2,1,0,4,6,7,3]"
   ]
  },
  {
   "cell_type": "code",
   "execution_count": 18,
   "metadata": {},
   "outputs": [
    {
     "data": {
      "text/plain": [
       "array(['San Diego', 'LA', 'Central Coast', 'Bay Area', 'Northeast',\n",
       "       'Sierras East', 'Sierras West', 'Modoc'], dtype='<U13')"
      ]
     },
     "execution_count": 18,
     "metadata": {},
     "output_type": "execute_result"
    }
   ],
   "source": [
    "np.array(sRegNames)[SORTreg]"
   ]
  },
  {
   "cell_type": "code",
   "execution_count": 17,
   "metadata": {},
   "outputs": [
    {
     "data": {
      "text/plain": [
       "[5, 2, 1, 0, 4, 6, 7, 3]"
      ]
     },
     "execution_count": 17,
     "metadata": {},
     "output_type": "execute_result"
    }
   ],
   "source": []
  },
  {
   "cell_type": "code",
   "execution_count": null,
   "metadata": {},
   "outputs": [],
   "source": []
  }
 ],
 "metadata": {
  "kernelspec": {
   "display_name": "Python 3",
   "language": "python",
   "name": "python3"
  },
  "language_info": {
   "codemirror_mode": {
    "name": "ipython",
    "version": 3
   },
   "file_extension": ".py",
   "mimetype": "text/x-python",
   "name": "python",
   "nbconvert_exporter": "python",
   "pygments_lexer": "ipython3",
   "version": "3.7.5"
  }
 },
 "nbformat": 4,
 "nbformat_minor": 4
}
